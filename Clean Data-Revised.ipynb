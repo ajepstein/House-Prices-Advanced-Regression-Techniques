{
 "cells": [
  {
   "cell_type": "code",
   "execution_count": 1,
   "metadata": {},
   "outputs": [],
   "source": [
    "import numpy as np\n",
    "import pandas as pd\n",
    "import matplotlib.pyplot as plt\n",
    "\n",
    "%matplotlib inline\n",
    "%config InlineBackend.figure_format='retina'"
   ]
  },
  {
   "cell_type": "code",
   "execution_count": 2,
   "metadata": {},
   "outputs": [],
   "source": [
    "def cleanHousingData(data_dir):\n",
    "    \n",
    "    #Reading the Data\n",
    "    train_data = pd.read_csv(data_dir + 'train.csv')\n",
    "    test_data = pd.read_csv(data_dir + 'test.csv')\n",
    "    \n",
    "    \n",
    "    #Getting All columns in both training and testing datasets that have nans\n",
    "    test_nan_cols = set(test_data.isna().sum()[test_data.isna().sum()>0].index)\n",
    "    train_nan_cols = set(train_data.isna().sum()[train_data.isna().sum()>0].index)\n",
    "    \n",
    "    del_cols = list(train_nan_cols.union(test_nan_cols))\n",
    "    #del_cols.append('Id')#We can get rid of Id column as well\n",
    "    \n",
    "    #These are the categorical columns to use later\n",
    "    categorical_cols = ['MSSubClass', 'MSZoning', 'Street', 'LotShape', 'LandContour', \n",
    "                   'Utilities', 'LotConfig', 'LandSlope', 'Neighborhood', 'Condition1', 'Condition2',\n",
    "                   'BldgType', 'HouseStyle', 'RoofStyle', 'RoofMatl', 'Exterior1st', 'Exterior2nd',\n",
    "                   'MasVnrType', 'ExterQual', 'ExterCond', 'Foundation', 'BsmtQual', 'BsmtCond', 'BsmtExposure',\n",
    "                   'BsmtFinType1', 'BsmtFinType2', 'Heating', 'HeatingQC', 'CentralAir', 'Electrical',\n",
    "                   'KitchenQual', 'Functional', 'GarageType', 'GarageFinish', 'GarageQual', 'GarageCond',\n",
    "                   'PavedDrive', 'SaleType', 'SaleCondition']\n",
    "    \n",
    "    #Dropping all the columns in del_cols in both training and testing set\n",
    "    clean_train = train_data.drop(del_cols, axis=1)\n",
    "    clean_test = test_data.drop(del_cols, axis=1)\n",
    "    \n",
    "    #Saving the SalePrice column\n",
    "    Y_train = clean_train.SalePrice\n",
    "    clean_train = clean_train.drop(['SalePrice'], axis=1)\n",
    "\n",
    "    #Marking the data as training or testing\n",
    "    clean_train.loc[:, 'type'] = pd.Series(['train'] * clean_train.shape[0])\n",
    "    clean_test.loc[:, 'type'] = pd.Series(['test'] * clean_test.shape[0])\n",
    "\n",
    "    #Concatenating the data\n",
    "    data = pd.concat([clean_train, clean_test], axis=0)\n",
    "    \n",
    "    #Creating another dataframe to efficiently One-Hot Encode the data\n",
    "    new_df = pd.DataFrame()\n",
    "    for col in list(data.columns):\n",
    "        #Checks if the column is a categorical column\n",
    "        if col in categorical_cols:\n",
    "            one_hot_col = pd.get_dummies(data.loc[:, col])\n",
    "            new_df = pd.concat([new_df, one_hot_col], axis=1)\n",
    "        \n",
    "        #If col is not categorical, it will remain the same\n",
    "        else:\n",
    "            column = data.loc[:, col]\n",
    "            new_df = pd.concat([new_df, column], axis=1)\n",
    "    \n",
    "    \n",
    "    #Separating the training and the testing data again\n",
    "    final_train = new_df.loc[new_df.type == 'train', :]\n",
    "    final_test = new_df.loc[new_df.type == 'test', :]\n",
    "\n",
    "    final_train = final_train.drop(['type'], axis=1)\n",
    "    final_test = final_test.drop(['type'], axis=1)\n",
    "\n",
    "    final_train.loc[:, 'SalePrice'] = Y_train\n",
    "    \n",
    "    \n",
    "    #Creates the new csv file in the same directory\n",
    "    final_train.to_csv(data_dir + 'clean_train.csv', index=False)\n",
    "    final_test.to_csv(data_dir + 'clean_test.csv', index=False)\n",
    "    \n",
    "    print('clean_train.csv' + ' is saved in ' + data_dir)\n",
    "    print('clean_test.csv' + 'is saved in ' + data_dir)"
   ]
  },
  {
   "cell_type": "code",
   "execution_count": 3,
   "metadata": {},
   "outputs": [
    {
     "name": "stdout",
     "output_type": "stream",
     "text": [
      "clean_train.csv is saved in /Users/adamepstein/Downloads/house-prices-advanced-regression-techniques/\n",
      "clean_test.csvis saved in /Users/adamepstein/Downloads/house-prices-advanced-regression-techniques/\n"
     ]
    }
   ],
   "source": [
    "data_dir = '/Users/adamepstein/Downloads/house-prices-advanced-regression-techniques/'\n",
    "cleanHousingData(data_dir)"
   ]
  },
  {
   "cell_type": "code",
   "execution_count": null,
   "metadata": {},
   "outputs": [],
   "source": []
  }
 ],
 "metadata": {
  "kernelspec": {
   "display_name": "Python 3",
   "language": "python",
   "name": "python3"
  },
  "language_info": {
   "codemirror_mode": {
    "name": "ipython",
    "version": 3
   },
   "file_extension": ".py",
   "mimetype": "text/x-python",
   "name": "python",
   "nbconvert_exporter": "python",
   "pygments_lexer": "ipython3",
   "version": "3.7.7"
  }
 },
 "nbformat": 4,
 "nbformat_minor": 4
}
